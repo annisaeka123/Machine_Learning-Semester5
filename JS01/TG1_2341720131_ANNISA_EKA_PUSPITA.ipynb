{
  "cells": [
    {
      "cell_type": "markdown",
      "metadata": {
        "id": "view-in-github",
        "colab_type": "text"
      },
      "source": [
        "<a href=\"https://colab.research.google.com/github/annisaeka123/Machine_Learning-Semester5/blob/main/JS01/TG1_2341720131_ANNISA_EKA_PUSPITA.ipynb\" target=\"_parent\"><img src=\"https://colab.research.google.com/assets/colab-badge.svg\" alt=\"Open In Colab\"/></a>"
      ]
    },
    {
      "cell_type": "markdown",
      "id": "63b50e50",
      "metadata": {
        "id": "63b50e50"
      },
      "source": [
        "BAGIAN 1"
      ]
    },
    {
      "cell_type": "markdown",
      "id": "b67b1328",
      "metadata": {
        "id": "b67b1328"
      },
      "source": [
        "Tugas 1 - Instalasi Library Python"
      ]
    },
    {
      "cell_type": "code",
      "execution_count": null,
      "id": "6d1ae452",
      "metadata": {
        "id": "6d1ae452",
        "outputId": "0decb904-9b5e-40fc-f68c-b015c71f9ff1",
        "colab": {
          "base_uri": "https://localhost:8080/"
        }
      },
      "outputs": [
        {
          "output_type": "stream",
          "name": "stdout",
          "text": [
            "Requirement already satisfied: pyprep in /usr/local/lib/python3.12/dist-packages (0.5.0)\n",
            "Requirement already satisfied: mne>=1.3.0 in /usr/local/lib/python3.12/dist-packages (from pyprep) (1.10.1)\n",
            "Requirement already satisfied: numpy>=1.20.2 in /usr/local/lib/python3.12/dist-packages (from pyprep) (2.0.2)\n",
            "Requirement already satisfied: psutil>=5.4.3 in /usr/local/lib/python3.12/dist-packages (from pyprep) (5.9.5)\n",
            "Requirement already satisfied: scipy>=1.6.3 in /usr/local/lib/python3.12/dist-packages (from pyprep) (1.16.1)\n",
            "Requirement already satisfied: decorator in /usr/local/lib/python3.12/dist-packages (from mne>=1.3.0->pyprep) (4.4.2)\n",
            "Requirement already satisfied: jinja2 in /usr/local/lib/python3.12/dist-packages (from mne>=1.3.0->pyprep) (3.1.6)\n",
            "Requirement already satisfied: lazy-loader>=0.3 in /usr/local/lib/python3.12/dist-packages (from mne>=1.3.0->pyprep) (0.4)\n",
            "Requirement already satisfied: matplotlib>=3.7 in /usr/local/lib/python3.12/dist-packages (from mne>=1.3.0->pyprep) (3.10.0)\n",
            "Requirement already satisfied: packaging in /usr/local/lib/python3.12/dist-packages (from mne>=1.3.0->pyprep) (25.0)\n",
            "Requirement already satisfied: pooch>=1.5 in /usr/local/lib/python3.12/dist-packages (from mne>=1.3.0->pyprep) (1.8.2)\n",
            "Requirement already satisfied: tqdm in /usr/local/lib/python3.12/dist-packages (from mne>=1.3.0->pyprep) (4.67.1)\n",
            "Requirement already satisfied: contourpy>=1.0.1 in /usr/local/lib/python3.12/dist-packages (from matplotlib>=3.7->mne>=1.3.0->pyprep) (1.3.3)\n",
            "Requirement already satisfied: cycler>=0.10 in /usr/local/lib/python3.12/dist-packages (from matplotlib>=3.7->mne>=1.3.0->pyprep) (0.12.1)\n",
            "Requirement already satisfied: fonttools>=4.22.0 in /usr/local/lib/python3.12/dist-packages (from matplotlib>=3.7->mne>=1.3.0->pyprep) (4.59.2)\n",
            "Requirement already satisfied: kiwisolver>=1.3.1 in /usr/local/lib/python3.12/dist-packages (from matplotlib>=3.7->mne>=1.3.0->pyprep) (1.4.9)\n",
            "Requirement already satisfied: pillow>=8 in /usr/local/lib/python3.12/dist-packages (from matplotlib>=3.7->mne>=1.3.0->pyprep) (11.3.0)\n",
            "Requirement already satisfied: pyparsing>=2.3.1 in /usr/local/lib/python3.12/dist-packages (from matplotlib>=3.7->mne>=1.3.0->pyprep) (3.2.3)\n",
            "Requirement already satisfied: python-dateutil>=2.7 in /usr/local/lib/python3.12/dist-packages (from matplotlib>=3.7->mne>=1.3.0->pyprep) (2.9.0.post0)\n",
            "Requirement already satisfied: platformdirs>=2.5.0 in /usr/local/lib/python3.12/dist-packages (from pooch>=1.5->mne>=1.3.0->pyprep) (4.4.0)\n",
            "Requirement already satisfied: requests>=2.19.0 in /usr/local/lib/python3.12/dist-packages (from pooch>=1.5->mne>=1.3.0->pyprep) (2.32.4)\n",
            "Requirement already satisfied: MarkupSafe>=2.0 in /usr/local/lib/python3.12/dist-packages (from jinja2->mne>=1.3.0->pyprep) (3.0.2)\n",
            "Requirement already satisfied: six>=1.5 in /usr/local/lib/python3.12/dist-packages (from python-dateutil>=2.7->matplotlib>=3.7->mne>=1.3.0->pyprep) (1.17.0)\n",
            "Requirement already satisfied: charset_normalizer<4,>=2 in /usr/local/lib/python3.12/dist-packages (from requests>=2.19.0->pooch>=1.5->mne>=1.3.0->pyprep) (3.4.3)\n",
            "Requirement already satisfied: idna<4,>=2.5 in /usr/local/lib/python3.12/dist-packages (from requests>=2.19.0->pooch>=1.5->mne>=1.3.0->pyprep) (3.10)\n",
            "Requirement already satisfied: urllib3<3,>=1.21.1 in /usr/local/lib/python3.12/dist-packages (from requests>=2.19.0->pooch>=1.5->mne>=1.3.0->pyprep) (2.5.0)\n",
            "Requirement already satisfied: certifi>=2017.4.17 in /usr/local/lib/python3.12/dist-packages (from requests>=2.19.0->pooch>=1.5->mne>=1.3.0->pyprep) (2025.8.3)\n",
            "Requirement already satisfied: scipy in /usr/local/lib/python3.12/dist-packages (1.16.1)\n",
            "Requirement already satisfied: numpy<2.6,>=1.25.2 in /usr/local/lib/python3.12/dist-packages (from scipy) (2.0.2)\n",
            "Requirement already satisfied: wandb in /usr/local/lib/python3.12/dist-packages (0.21.3)\n",
            "Requirement already satisfied: click>=8.0.1 in /usr/local/lib/python3.12/dist-packages (from wandb) (8.2.1)\n",
            "Requirement already satisfied: gitpython!=3.1.29,>=1.0.0 in /usr/local/lib/python3.12/dist-packages (from wandb) (3.1.45)\n",
            "Requirement already satisfied: packaging in /usr/local/lib/python3.12/dist-packages (from wandb) (25.0)\n",
            "Requirement already satisfied: platformdirs in /usr/local/lib/python3.12/dist-packages (from wandb) (4.4.0)\n",
            "Requirement already satisfied: protobuf!=4.21.0,!=5.28.0,<7,>=3.19.0 in /usr/local/lib/python3.12/dist-packages (from wandb) (5.29.5)\n",
            "Requirement already satisfied: pydantic<3 in /usr/local/lib/python3.12/dist-packages (from wandb) (2.11.7)\n",
            "Requirement already satisfied: pyyaml in /usr/local/lib/python3.12/dist-packages (from wandb) (6.0.2)\n",
            "Requirement already satisfied: requests<3,>=2.0.0 in /usr/local/lib/python3.12/dist-packages (from wandb) (2.32.4)\n",
            "Requirement already satisfied: sentry-sdk>=2.0.0 in /usr/local/lib/python3.12/dist-packages (from wandb) (2.35.2)\n",
            "Requirement already satisfied: typing-extensions<5,>=4.8 in /usr/local/lib/python3.12/dist-packages (from wandb) (4.15.0)\n",
            "Requirement already satisfied: gitdb<5,>=4.0.1 in /usr/local/lib/python3.12/dist-packages (from gitpython!=3.1.29,>=1.0.0->wandb) (4.0.12)\n",
            "Requirement already satisfied: annotated-types>=0.6.0 in /usr/local/lib/python3.12/dist-packages (from pydantic<3->wandb) (0.7.0)\n",
            "Requirement already satisfied: pydantic-core==2.33.2 in /usr/local/lib/python3.12/dist-packages (from pydantic<3->wandb) (2.33.2)\n",
            "Requirement already satisfied: typing-inspection>=0.4.0 in /usr/local/lib/python3.12/dist-packages (from pydantic<3->wandb) (0.4.1)\n",
            "Requirement already satisfied: charset_normalizer<4,>=2 in /usr/local/lib/python3.12/dist-packages (from requests<3,>=2.0.0->wandb) (3.4.3)\n",
            "Requirement already satisfied: idna<4,>=2.5 in /usr/local/lib/python3.12/dist-packages (from requests<3,>=2.0.0->wandb) (3.10)\n",
            "Requirement already satisfied: urllib3<3,>=1.21.1 in /usr/local/lib/python3.12/dist-packages (from requests<3,>=2.0.0->wandb) (2.5.0)\n",
            "Requirement already satisfied: certifi>=2017.4.17 in /usr/local/lib/python3.12/dist-packages (from requests<3,>=2.0.0->wandb) (2025.8.3)\n",
            "Requirement already satisfied: smmap<6,>=3.0.1 in /usr/local/lib/python3.12/dist-packages (from gitdb<5,>=4.0.1->gitpython!=3.1.29,>=1.0.0->wandb) (5.0.2)\n",
            "Collecting git+https://github.com/berndporr/py-ecg-detectors\n",
            "  Cloning https://github.com/berndporr/py-ecg-detectors to /tmp/pip-req-build-a4wuc49v\n",
            "  Running command git clone --filter=blob:none --quiet https://github.com/berndporr/py-ecg-detectors /tmp/pip-req-build-a4wuc49v\n",
            "  Resolved https://github.com/berndporr/py-ecg-detectors to commit f39354cb686710f8e243e214b94fda0914fff656\n",
            "  Preparing metadata (setup.py) ... \u001b[?25l\u001b[?25hdone\n",
            "Requirement already satisfied: numpy in /usr/local/lib/python3.12/dist-packages (from py-ecg-detectors==1.3.5) (2.0.2)\n",
            "Collecting pathlib2 (from py-ecg-detectors==1.3.5)\n",
            "  Downloading pathlib2-2.3.7.post1-py2.py3-none-any.whl.metadata (3.5 kB)\n",
            "Requirement already satisfied: scipy in /usr/local/lib/python3.12/dist-packages (from py-ecg-detectors==1.3.5) (1.16.1)\n",
            "Collecting gatspy (from py-ecg-detectors==1.3.5)\n",
            "  Downloading gatspy-0.3.tar.gz (554 kB)\n",
            "\u001b[2K     \u001b[90m━━━━━━━━━━━━━━━━━━━━━━━━━━━━━━━━━━━━━━\u001b[0m \u001b[32m554.5/554.5 kB\u001b[0m \u001b[31m11.3 MB/s\u001b[0m eta \u001b[36m0:00:00\u001b[0m\n",
            "\u001b[?25h  Preparing metadata (setup.py) ... \u001b[?25l\u001b[?25hdone\n",
            "Requirement already satisfied: pywavelets in /usr/local/lib/python3.12/dist-packages (from py-ecg-detectors==1.3.5) (1.9.0)\n",
            "Requirement already satisfied: six in /usr/local/lib/python3.12/dist-packages (from pathlib2->py-ecg-detectors==1.3.5) (1.17.0)\n",
            "Downloading pathlib2-2.3.7.post1-py2.py3-none-any.whl (18 kB)\n",
            "Building wheels for collected packages: py-ecg-detectors, gatspy\n",
            "  Building wheel for py-ecg-detectors (setup.py) ... \u001b[?25l\u001b[?25hdone\n",
            "  Created wheel for py-ecg-detectors: filename=py_ecg_detectors-1.3.5-py3-none-any.whl size=25354 sha256=05c464371ccf73795c5e7224e0c884e9de695bbdeb50d1baabb1258515bd3975\n",
            "  Stored in directory: /tmp/pip-ephem-wheel-cache-yif22pb9/wheels/21/fa/b8/dbb483b99cd17a7bbff4268ebfaa826580d2138ed6f187b980\n",
            "  Building wheel for gatspy (setup.py) ... \u001b[?25l\u001b[?25hdone\n",
            "  Created wheel for gatspy: filename=gatspy-0.3-py3-none-any.whl size=43804 sha256=93ad6b433dc43955e326339c7dea2c083b543ecd3a8b19d931e00d123f890b55\n",
            "  Stored in directory: /root/.cache/pip/wheels/b5/56/88/04643e9be584a6018e10aae5789d98225995da3e89513c3f30\n",
            "Successfully built py-ecg-detectors gatspy\n",
            "Installing collected packages: gatspy, pathlib2, py-ecg-detectors\n",
            "Successfully installed gatspy-0.3 pathlib2-2.3.7.post1 py-ecg-detectors-1.3.5\n"
          ]
        }
      ],
      "source": [
        "!pip install pyprep\n",
        "!pip install scipy\n",
        "!pip install wandb\n",
        "!pip install git+https://github.com/berndporr/py-ecg-detectors"
      ]
    },
    {
      "cell_type": "markdown",
      "id": "b8b2c810",
      "metadata": {
        "id": "b8b2c810"
      },
      "source": [
        "Penjelasan Kegunaan Library\n",
        "\n",
        "1. PyPREP  \n",
        "- PyPREP adalah library Python untuk preprocessing sinyal EEG (Electroencephalography).  \n",
        "- Biasanya dipakai untuk membersihkan data EEG dari noise seperti artefak mata (eye blink), gerakan otot, atau gangguan listrik.  \n",
        "- Sangat berguna di bidang neuroscience, bio-signal processing, dan penelitian otak.\n",
        "\n",
        "2. SciPy\n",
        "- SciPy (Scientific Python) adalah library fundamental untuk komputasi ilmiah.  \n",
        "- Menyediakan modul untuk aljabar linear, optimisasi, transformasi Fourier, integrasi, statistik, dan pemrosesan sinyal.  \n",
        "- Banyak digunakan di bidang sains, teknik, dan machine learning.\n",
        "\n",
        "3. wandb (Weights & Biases)  \n",
        "- wandb adalah platform untuk experiment tracking dan visualisasi training machine learning.  \n",
        "- Bisa digunakan untuk mencatat parameter, metrik, grafik, dan membandingkan hasil eksperimen.  \n",
        "- Membantu kolaborasi dalam proyek machine learning.\n",
        "\n",
        "4. pyECG\n",
        "- pyECG adalah library untuk memproses dan menganalisis sinyal ECG (Electrocardiogram).  \n",
        "- Biasanya digunakan untuk mendeteksi detak jantung, ritme jantung, serta analisis kesehatan kardiovaskular.  \n",
        "- Cocok untuk penelitian di bidang kesehatan dan biomedical signal processing.\n"
      ]
    },
    {
      "cell_type": "markdown",
      "id": "8e0b124d",
      "metadata": {
        "id": "8e0b124d"
      },
      "source": [
        "BAGIAN 2"
      ]
    },
    {
      "cell_type": "markdown",
      "id": "1f519418",
      "metadata": {
        "id": "1f519418"
      },
      "source": [
        "\n",
        "1. Berikan contoh tentang tidakan melanggar etika dan hukum tentang penggunaan kecerdasan buatan. Sertakan referensi yang digunakan.\n",
        "\n",
        "JAWAB:\n",
        "\n",
        "Salah satu contoh tindakan yang melanggar etika dan hukum adalah penggunaan AI untuk membuat DeepFake tanpa izin.\n",
        "DeepFake adalah teknologi berbasis AI yang dapat memanipulasi wajah dan suara seseorang dalam bentuk video atau audio sehingga tampak nyata.\n",
        "Kasus yang sering muncul adalah pembuatan video palsu tokoh publik atau selebriti dengan tujuan menyebarkan hoaks, pencemaran nama baik, maupun konten eksploitasi seksual tanpa persetujuan.\n",
        "\n",
        "Hal ini melanggar etika karena:\n",
        "\n",
        "- Merusak reputasi seseorang.\n",
        "\n",
        "- Menyebabkan disinformasi yang membahayakan masyarakat.\n",
        "\n",
        "- Menghilangkan hak privasi individu.\n",
        "\n",
        "Dari sisi hukum, di Indonesia praktik semacam ini bisa dijerat dengan UU ITE Pasal 27 ayat (3) mengenai pencemaran nama baik di media elektronik serta UU No. 28 Tahun 2014 tentang Hak Cipta jika berkaitan dengan karya cipta.\n",
        "\n",
        "\n",
        "Referensi:\n",
        "\n",
        "- https://www.bbc.com/news/technology-53325771\n",
        "\n",
        "- https://www.cnnindonesia.com/teknologi/20230419144919-185-937881/awas-deepfake-bisa-jadi-kejahatan-digital-baru\n",
        "\n",
        "- https://id.wikipedia.org/wiki/Undang-Undang_Informasi_dan_Transaksi_Elektronik\n",
        "\n"
      ]
    },
    {
      "cell_type": "markdown",
      "source": [
        "2. Berikan contoh tentang dampak energi dan lingkungan terhadap pemanfaatan kecerdasan buatan dan bagaimana cara mengatasinya (Anda dapat memberikan pendapat pribadi). Sertakan referensi yang digunakan.\n",
        "\n",
        "JAWAB:\n",
        "\n",
        "Pengembangan AI, terutama pada tahap pelatihan model besar (Large Language Models), memerlukan energi yang sangat besar. Menurut penelitian University of Massachusetts Amherst (2019), melatih satu model AI setara dengan emisi karbon 5 mobil sepanjang hidupnya. Selain itu, pusat data yang menjadi infrastruktur AI juga membutuhkan pendingin berbasis air murni, sehingga berpotensi menambah tekanan pada ketersediaan air bersih dunia.\n",
        "\n",
        "Dampak terhadap lingkungan:\n",
        "\n",
        "- Emisi karbon akibat penggunaan listrik dalam jumlah besar.\n",
        "\n",
        "- Konsumsi air untuk sistem pendinginan server.\n",
        "\n",
        "- Polusi elektronik dari limbah perangkat keras (chip, server, dll).\n",
        "\n",
        "Cara mengatasinya (pendapat pribadi):\n",
        "\n",
        "- Mengoptimalkan algoritma efisien agar pelatihan model AI tidak boros energi.\n",
        "\n",
        "- Menggunakan pusat data hijau dengan energi terbarukan (tenaga surya, angin, hidro).\n",
        "\n",
        "- Menerapkan model sharing dan open-source sehingga tidak semua pihak perlu melatih model dari nol.\n",
        "\n",
        "- Mengembangkan teknologi pendinginan ramah lingkungan, misalnya pendingin berbasis udara alami dibanding air murni.\n",
        "\n",
        "Referensi:\n",
        "\n",
        "- https://www.nature.com/articles/d41586-022-00512-2\n",
        "\n",
        "- https://www.bbc.com/future/article/20230517-the-environmental-cost-of-artificial-intelligence\n",
        "\n",
        "- https://www.theguardian.com/technology/2023/may/25/artificial-intelligence-ai-carbon-footprint"
      ],
      "metadata": {
        "id": "gaDAeWbbKOrE"
      },
      "id": "gaDAeWbbKOrE"
    }
  ],
  "metadata": {
    "kernelspec": {
      "display_name": "base",
      "language": "python",
      "name": "python3"
    },
    "language_info": {
      "codemirror_mode": {
        "name": "ipython",
        "version": 3
      },
      "file_extension": ".py",
      "mimetype": "text/x-python",
      "name": "python",
      "nbconvert_exporter": "python",
      "pygments_lexer": "ipython3",
      "version": "3.13.5"
    },
    "colab": {
      "provenance": [],
      "include_colab_link": true
    }
  },
  "nbformat": 4,
  "nbformat_minor": 5
}