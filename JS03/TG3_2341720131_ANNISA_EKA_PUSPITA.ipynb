{
  "nbformat": 4,
  "nbformat_minor": 0,
  "metadata": {
    "colab": {
      "provenance": [],
      "authorship_tag": "ABX9TyM2tYSwveQJSTVApHuhICdn",
      "include_colab_link": true
    },
    "kernelspec": {
      "name": "python3",
      "display_name": "Python 3"
    },
    "language_info": {
      "name": "python"
    }
  },
  "cells": [
    {
      "cell_type": "markdown",
      "metadata": {
        "id": "view-in-github",
        "colab_type": "text"
      },
      "source": [
        "<a href=\"https://colab.research.google.com/github/annisaeka123/Machine_Learning-Semester5/blob/main/JS03/TG3_2341720131_ANNISA_EKA_PUSPITA.ipynb\" target=\"_parent\"><img src=\"https://colab.research.google.com/assets/colab-badge.svg\" alt=\"Open In Colab\"/></a>"
      ]
    },
    {
      "cell_type": "markdown",
      "source": [
        "**Tugas Praktikum**\n",
        "\n",
        "Wisconsin Breast Cancer (Again)"
      ],
      "metadata": {
        "id": "cvmwAcXbyAUh"
      }
    },
    {
      "cell_type": "markdown",
      "source": [
        "Deskripsi Tugas\n",
        "\n",
        "Pada tugas pratikum ini Anda akan menggunakan data \"Wisconsin Breast Cancer\". Data tersebut terdiri dari 569 data yang digunakan untuk mendiagnonis jenis kanker Malignant (M) dan Benign (B). Tugas Anda adalah,"
      ],
      "metadata": {
        "id": "IrEYm6H_yFhP"
      }
    },
    {
      "cell_type": "markdown",
      "source": [
        "1. Pisahkan antara variabel yang dapat digunakan dan variabel yang tidak dapat digunakan."
      ],
      "metadata": {
        "id": "rnJ4d9QgyKBZ"
      }
    },
    {
      "cell_type": "code",
      "source": [
        "from sklearn.datasets import load_breast_cancer\n",
        "import pandas as pd\n",
        "\n",
        "# load data\n",
        "data = load_breast_cancer()\n",
        "df = pd.DataFrame(data.data, columns=data.feature_names)\n",
        "df['diagnosis'] = data.target  # 0 = malignant, 1 = benign\n"
      ],
      "metadata": {
        "id": "7-_EZpuJz9CQ"
      },
      "execution_count": 2,
      "outputs": []
    },
    {
      "cell_type": "markdown",
      "source": [
        "2. Lakukan proses encoding pada kolom \"diagnosis\"."
      ],
      "metadata": {
        "id": "wTH8L8tqyNek"
      }
    },
    {
      "cell_type": "markdown",
      "source": [
        "- Bisa digunakan: semua kolom numerik (mean radius, mean texture, dst.).\n",
        "\n",
        "- Tidak bisa digunakan: kolom non-numerik atau yang redundan. Dalam dataset bawaan sklearn, semuanya numerik."
      ],
      "metadata": {
        "id": "Wsv7LQpI0W6d"
      }
    },
    {
      "cell_type": "markdown",
      "source": [
        "3. Lakukan proses standardisasi pada semua kolom yang memiliki nilai numerik."
      ],
      "metadata": {
        "id": "2DaBKMr9yRUH"
      }
    },
    {
      "cell_type": "code",
      "source": [
        "df['diagnosis'] = df['diagnosis'].map({0: \"M\", 1: \"B\"})  # contoh mapping balik\n",
        "df['diagnosis'] = df['diagnosis'].map({\"M\": 0, \"B\": 1})  # encoding ke numerik\n"
      ],
      "metadata": {
        "id": "SKiDUgZm0C5B"
      },
      "execution_count": 3,
      "outputs": []
    },
    {
      "cell_type": "markdown",
      "source": [
        "4. Lakukan proses seleksi fitur. Anda dapat menggunakan SelectKBest."
      ],
      "metadata": {
        "id": "hqF6RSx9yU1i"
      }
    },
    {
      "cell_type": "code",
      "source": [
        "from sklearn.preprocessing import StandardScaler\n",
        "X = df.drop(columns=['diagnosis'])\n",
        "y = df['diagnosis']\n",
        "\n",
        "scaler = StandardScaler()\n",
        "X_scaled = scaler.fit_transform(X)\n"
      ],
      "metadata": {
        "id": "u6vFhCpy0Exz"
      },
      "execution_count": 4,
      "outputs": []
    },
    {
      "cell_type": "markdown",
      "source": [
        "5. Lakukan proses pengujian dengan model Logistic Regression seperti pada praktikum 1."
      ],
      "metadata": {
        "id": "rEB4mBm2yW2g"
      }
    },
    {
      "cell_type": "code",
      "source": [
        "from sklearn.feature_selection import SelectKBest, f_classif\n",
        "\n",
        "selector = SelectKBest(score_func=f_classif, k='all')\n",
        "X_new = selector.fit_transform(X_scaled, y)\n",
        "\n",
        "# urutkan skor fitur\n",
        "feature_scores = pd.DataFrame({\n",
        "    'Feature': X.columns,\n",
        "    'Score': selector.scores_\n",
        "}).sort_values(by=\"Score\", ascending=False)\n",
        "print(feature_scores)\n"
      ],
      "metadata": {
        "colab": {
          "base_uri": "https://localhost:8080/"
        },
        "id": "E5SNTjG30JB7",
        "outputId": "4775115c-9086-421b-ca51-db847b2ccfd3"
      },
      "execution_count": 5,
      "outputs": [
        {
          "output_type": "stream",
          "name": "stdout",
          "text": [
            "                    Feature       Score\n",
            "27     worst concave points  964.385393\n",
            "22          worst perimeter  897.944219\n",
            "7       mean concave points  861.676020\n",
            "20             worst radius  860.781707\n",
            "2            mean perimeter  697.235272\n",
            "23               worst area  661.600206\n",
            "0               mean radius  646.981021\n",
            "3                 mean area  573.060747\n",
            "6            mean concavity  533.793126\n",
            "26          worst concavity  436.691939\n",
            "5          mean compactness  313.233079\n",
            "25        worst compactness  304.341063\n",
            "10             radius error  268.840327\n",
            "12          perimeter error  253.897392\n",
            "13               area error  243.651586\n",
            "21            worst texture  149.596905\n",
            "24         worst smoothness  122.472880\n",
            "28           worst symmetry  118.860232\n",
            "1              mean texture  118.096059\n",
            "17     concave points error  113.262760\n",
            "4           mean smoothness   83.651123\n",
            "8             mean symmetry   69.527444\n",
            "29  worst fractal dimension   66.443961\n",
            "15        compactness error   53.247339\n",
            "16          concavity error   39.014482\n",
            "19  fractal dimension error    3.468275\n",
            "14         smoothness error    2.557968\n",
            "9    mean fractal dimension    0.093459\n",
            "11            texture error    0.039095\n",
            "18           symmetry error    0.024117\n"
          ]
        }
      ]
    },
    {
      "cell_type": "markdown",
      "source": [
        "6. Anda dapat menggunakan model pipeline untuk mempermudah perkejaan Anda."
      ],
      "metadata": {
        "id": "4A7IDohU0lmp"
      }
    },
    {
      "cell_type": "code",
      "source": [
        "from sklearn.pipeline import Pipeline\n",
        "from sklearn.linear_model import LogisticRegression\n",
        "from sklearn.model_selection import cross_val_score\n",
        "\n",
        "for k in range(5, 31):  # coba berbagai jumlah fitur\n",
        "    pipe = Pipeline([\n",
        "        ('scaler', StandardScaler()),\n",
        "        ('select', SelectKBest(score_func=f_classif, k=k)),\n",
        "        ('clf', LogisticRegression(max_iter=500))\n",
        "    ])\n",
        "    scores = cross_val_score(pipe, X, y, cv=5)\n",
        "    print(f\"Jumlah fitur: {k}, Akurasi rata-rata: {scores.mean():.4f}\")\n"
      ],
      "metadata": {
        "colab": {
          "base_uri": "https://localhost:8080/"
        },
        "id": "ENTgdibG0Kzt",
        "outputId": "6882d65f-1dac-4bd9-c79a-f29154588a87"
      },
      "execution_count": 6,
      "outputs": [
        {
          "output_type": "stream",
          "name": "stdout",
          "text": [
            "Jumlah fitur: 5, Akurasi rata-rata: 0.9490\n",
            "Jumlah fitur: 6, Akurasi rata-rata: 0.9526\n",
            "Jumlah fitur: 7, Akurasi rata-rata: 0.9561\n",
            "Jumlah fitur: 8, Akurasi rata-rata: 0.9543\n",
            "Jumlah fitur: 9, Akurasi rata-rata: 0.9543\n",
            "Jumlah fitur: 10, Akurasi rata-rata: 0.9508\n",
            "Jumlah fitur: 11, Akurasi rata-rata: 0.9490\n",
            "Jumlah fitur: 12, Akurasi rata-rata: 0.9438\n",
            "Jumlah fitur: 13, Akurasi rata-rata: 0.9438\n",
            "Jumlah fitur: 14, Akurasi rata-rata: 0.9438\n",
            "Jumlah fitur: 15, Akurasi rata-rata: 0.9456\n",
            "Jumlah fitur: 16, Akurasi rata-rata: 0.9561\n",
            "Jumlah fitur: 17, Akurasi rata-rata: 0.9649\n",
            "Jumlah fitur: 18, Akurasi rata-rata: 0.9754\n",
            "Jumlah fitur: 19, Akurasi rata-rata: 0.9789\n",
            "Jumlah fitur: 20, Akurasi rata-rata: 0.9789\n",
            "Jumlah fitur: 21, Akurasi rata-rata: 0.9754\n",
            "Jumlah fitur: 22, Akurasi rata-rata: 0.9789\n",
            "Jumlah fitur: 23, Akurasi rata-rata: 0.9789\n",
            "Jumlah fitur: 24, Akurasi rata-rata: 0.9754\n",
            "Jumlah fitur: 25, Akurasi rata-rata: 0.9772\n",
            "Jumlah fitur: 26, Akurasi rata-rata: 0.9789\n",
            "Jumlah fitur: 27, Akurasi rata-rata: 0.9789\n",
            "Jumlah fitur: 28, Akurasi rata-rata: 0.9807\n",
            "Jumlah fitur: 29, Akurasi rata-rata: 0.9789\n",
            "Jumlah fitur: 30, Akurasi rata-rata: 0.9807\n"
          ]
        }
      ]
    },
    {
      "cell_type": "markdown",
      "source": [
        "7. Berdasarkan hasil analisa Anda, berapa jumlah fitur terbaik yang dapat digunakan? Apa saja fitur tersebut?"
      ],
      "metadata": {
        "id": "ABjMyJW4yY5e"
      }
    },
    {
      "cell_type": "code",
      "source": [
        "best_k = 10  # misalnya dari hasil uji cross-validation\n",
        "selector = SelectKBest(score_func=f_classif, k=best_k)\n",
        "X_new = selector.fit_transform(X_scaled, y)\n",
        "selected_features = X.columns[selector.get_support()]\n",
        "print(\"Fitur terbaik:\", list(selected_features))\n"
      ],
      "metadata": {
        "colab": {
          "base_uri": "https://localhost:8080/"
        },
        "id": "cSl2BXio0ORx",
        "outputId": "0bf16650-b690-482d-a575-49803af54e0f"
      },
      "execution_count": 7,
      "outputs": [
        {
          "output_type": "stream",
          "name": "stdout",
          "text": [
            "Fitur terbaik: ['mean radius', 'mean perimeter', 'mean area', 'mean concavity', 'mean concave points', 'worst radius', 'worst perimeter', 'worst area', 'worst concavity', 'worst concave points']\n"
          ]
        }
      ]
    }
  ]
}