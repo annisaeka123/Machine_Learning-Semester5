{
  "nbformat": 4,
  "nbformat_minor": 0,
  "metadata": {
    "colab": {
      "provenance": [],
      "authorship_tag": "ABX9TyPCXWNlVwsg5oaUTNygRRKz",
      "include_colab_link": true
    },
    "kernelspec": {
      "name": "python3",
      "display_name": "Python 3"
    },
    "language_info": {
      "name": "python"
    }
  },
  "cells": [
    {
      "cell_type": "markdown",
      "metadata": {
        "id": "view-in-github",
        "colab_type": "text"
      },
      "source": [
        "<a href=\"https://colab.research.google.com/github/annisaeka123/Machine_Learning-Semester5/blob/main/JS03/Praktikum2.ipynb\" target=\"_parent\"><img src=\"https://colab.research.google.com/assets/colab-badge.svg\" alt=\"Open In Colab\"/></a>"
      ]
    },
    {
      "cell_type": "markdown",
      "source": [
        "**Pratikum 2**\n",
        "\n",
        "**Sekilas Ekstraksi Fitur TF-IDF**"
      ],
      "metadata": {
        "id": "Lk2X7AZKt_gR"
      }
    },
    {
      "cell_type": "markdown",
      "source": [
        "Langkah 0 - Siapkan Corpus"
      ],
      "metadata": {
        "id": "uoiawDTEuKWA"
      }
    },
    {
      "cell_type": "code",
      "execution_count": 1,
      "metadata": {
        "id": "fpZmYN-RtvWe"
      },
      "outputs": [],
      "source": [
        "corpus = [\n",
        "    'the house had a tiny little mouse',\n",
        "    'the cat saw the mouse',\n",
        "    'the mouse ran away from the house',\n",
        "    'the cat finally ate the mouse',\n",
        "    'the end of the mouse story'\n",
        "]"
      ]
    },
    {
      "cell_type": "markdown",
      "source": [
        "Langkah 1 - Buat Model TF-IDF"
      ],
      "metadata": {
        "id": "H8tThyEpuOAf"
      }
    },
    {
      "cell_type": "code",
      "source": [
        "from sklearn.feature_extraction.text import TfidfVectorizer\n",
        "\n",
        "# Inisiasi obyek TFidfVectorizer\n",
        "vect = TfidfVectorizer(stop_words='english')\n",
        "\n",
        "# Pembobotan TF-IDF\n",
        "resp = vect.fit_transform(corpus)\n",
        "\n",
        "# Cetak hasil\n",
        "print(resp)"
      ],
      "metadata": {
        "colab": {
          "base_uri": "https://localhost:8080/"
        },
        "id": "1wfVJFGbuPpp",
        "outputId": "8eb3e01c-e9f7-4c0e-8ad1-7eabe2068021"
      },
      "execution_count": 2,
      "outputs": [
        {
          "output_type": "stream",
          "name": "stdout",
          "text": [
            "<Compressed Sparse Row sparse matrix of dtype 'float64'\n",
            "\twith 18 stored elements and shape (5, 12)>\n",
            "  Coords\tValues\n",
            "  (0, 5)\t0.47557510189256375\n",
            "  (0, 11)\t0.5894630806320427\n",
            "  (0, 6)\t0.5894630806320427\n",
            "  (0, 7)\t0.2808823162882302\n",
            "  (1, 7)\t0.3477147117091919\n",
            "  (1, 2)\t0.5887321837696324\n",
            "  (1, 9)\t0.7297183669435993\n",
            "  (2, 5)\t0.47557510189256375\n",
            "  (2, 7)\t0.2808823162882302\n",
            "  (2, 8)\t0.5894630806320427\n",
            "  (2, 1)\t0.5894630806320427\n",
            "  (3, 7)\t0.2808823162882302\n",
            "  (3, 2)\t0.47557510189256375\n",
            "  (3, 4)\t0.5894630806320427\n",
            "  (3, 0)\t0.5894630806320427\n",
            "  (4, 7)\t0.3193023297639811\n",
            "  (4, 3)\t0.6700917930430479\n",
            "  (4, 10)\t0.6700917930430479\n"
          ]
        }
      ]
    },
    {
      "cell_type": "markdown",
      "source": [
        "Hasil tersebut menunjukkan,\n",
        "\n",
        "1. (row, column) -> Row indeksmerupakan dokumen didalam corpus, sedangkan column merupakan indeks kata didalam fitur\n",
        "\n",
        "2. Values -> bobot hasil proses vektorisasi pada TF-IDF"
      ],
      "metadata": {
        "id": "NjFngYQIuS90"
      }
    },
    {
      "cell_type": "markdown",
      "source": [
        "Langkah 2 - Cek Kata yang Digunakan"
      ],
      "metadata": {
        "id": "FMHsgQObuXLx"
      }
    },
    {
      "cell_type": "code",
      "source": [
        "print(vect.get_feature_names_out())"
      ],
      "metadata": {
        "colab": {
          "base_uri": "https://localhost:8080/"
        },
        "id": "kQUgbfBwuYvh",
        "outputId": "5ddfc1a7-4e21-4c1c-9a6c-91733918d995"
      },
      "execution_count": 3,
      "outputs": [
        {
          "output_type": "stream",
          "name": "stdout",
          "text": [
            "['ate' 'away' 'cat' 'end' 'finally' 'house' 'little' 'mouse' 'ran' 'saw'\n",
            " 'story' 'tiny']\n"
          ]
        }
      ]
    }
  ]
}