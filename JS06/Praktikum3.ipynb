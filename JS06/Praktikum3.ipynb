{
  "nbformat": 4,
  "nbformat_minor": 0,
  "metadata": {
    "colab": {
      "provenance": [],
      "authorship_tag": "ABX9TyOMfhDmoSUeOIdDJ/qSZsPG",
      "include_colab_link": true
    },
    "kernelspec": {
      "name": "python3",
      "display_name": "Python 3"
    },
    "language_info": {
      "name": "python"
    }
  },
  "cells": [
    {
      "cell_type": "markdown",
      "metadata": {
        "id": "view-in-github",
        "colab_type": "text"
      },
      "source": [
        "<a href=\"https://colab.research.google.com/github/annisaeka123/Machine_Learning-Semester5/blob/main/JS06/Praktikum3.ipynb\" target=\"_parent\"><img src=\"https://colab.research.google.com/assets/colab-badge.svg\" alt=\"Open In Colab\"/></a>"
      ]
    },
    {
      "cell_type": "markdown",
      "source": [
        "PRAKTIKUM 3"
      ],
      "metadata": {
        "id": "nhaj6Eyv1eNy"
      }
    },
    {
      "cell_type": "code",
      "execution_count": 1,
      "metadata": {
        "colab": {
          "base_uri": "https://localhost:8080/"
        },
        "id": "EYsMDXXk1YnW",
        "outputId": "c8a079de-c549-4fa3-e24b-dbc2ceb59c2a"
      },
      "outputs": [
        {
          "output_type": "stream",
          "name": "stdout",
          "text": [
            "Collecting hnswlib\n",
            "  Downloading hnswlib-0.8.0.tar.gz (36 kB)\n",
            "  Installing build dependencies ... \u001b[?25l\u001b[?25hdone\n",
            "  Getting requirements to build wheel ... \u001b[?25l\u001b[?25hdone\n",
            "  Preparing metadata (pyproject.toml) ... \u001b[?25l\u001b[?25hdone\n",
            "Requirement already satisfied: numpy in /usr/local/lib/python3.12/dist-packages (from hnswlib) (2.0.2)\n",
            "Building wheels for collected packages: hnswlib\n",
            "  Building wheel for hnswlib (pyproject.toml) ... \u001b[?25l\u001b[?25hdone\n",
            "  Created wheel for hnswlib: filename=hnswlib-0.8.0-cp312-cp312-linux_x86_64.whl size=2528146 sha256=e3633f10cb78a1dcc77222fe3b004ed3b06965ce094a3217d64f81a7a95b5b01\n",
            "  Stored in directory: /root/.cache/pip/wheels/ac/39/b3/cbd7f9cbb76501d2d5fbc84956e70d0b94e788aac87bda465e\n",
            "Successfully built hnswlib\n",
            "Installing collected packages: hnswlib\n",
            "Successfully installed hnswlib-0.8.0\n"
          ]
        }
      ],
      "source": [
        "!pip install hnswlib"
      ]
    },
    {
      "cell_type": "markdown",
      "source": [
        "Percobaan berikut akan membandingkan exact NN dengan HNSW pada 1000 data 2D."
      ],
      "metadata": {
        "id": "wrTZW0QV1jzD"
      }
    },
    {
      "cell_type": "code",
      "source": [
        "import hnswlib\n",
        "import numpy as np\n",
        "import time\n",
        "from sklearn.neighbors import NearestNeighbors\n",
        "\n",
        "# ===========================\n",
        "# 1. Buat data 2D acak\n",
        "# ===========================\n",
        "num_elements = 1000\n",
        "dim = 2\n",
        "data = np.random.random((num_elements, dim)).astype(np.float32)\n",
        "\n",
        "# Query point\n",
        "query = np.array([[0.5, 0.5]], dtype=np.float32)\n",
        "k = 5  # cari 5 tetangga terdekat\n",
        "\n",
        "# ===========================\n",
        "# 2. Exact NN (Brute Force)\n",
        "# ===========================\n",
        "nn = NearestNeighbors(n_neighbors=k, algorithm='brute', metric='euclidean')\n",
        "nn.fit(data)\n",
        "\n",
        "start = time.time()\n",
        "distances, indices = nn.kneighbors(query)\n",
        "end = time.time()\n",
        "\n",
        "print(\"=== Exact NN ===\")\n",
        "print(\"Indices:\", indices)\n",
        "print(\"Distances:\", distances)\n",
        "print(\"Waktu:\", end - start, \"detik\")\n",
        "\n",
        "# ===========================\n",
        "# 3. HNSW\n",
        "# ===========================\n",
        "# Inisialisasi index HNSW\n",
        "p = hnswlib.Index(space='l2', dim=dim)\n",
        "\n",
        "# Ukuran maksimum elemen yang bisa ditampung\n",
        "p.init_index(max_elements=num_elements, ef_construction=100, M=16)\n",
        "\n",
        "# Tambahkan data\n",
        "p.add_items(data)\n",
        "\n",
        "# Set parameter pencarian\n",
        "p.set_ef(50)   # tradeoff speed vs accuracy\n",
        "\n",
        "start = time.time()\n",
        "labels, distances = p.knn_query(query, k=k)\n",
        "end = time.time()\n",
        "\n",
        "print(\"\\n=== HNSW ===\")\n",
        "print(\"Indices:\", labels)\n",
        "print(\"Distances:\", distances)\n",
        "print(\"Waktu:\", end - start, \"detik\")\n"
      ],
      "metadata": {
        "colab": {
          "base_uri": "https://localhost:8080/"
        },
        "id": "1t_Xcdtf1iId",
        "outputId": "77082473-bb6e-49d3-ce03-8ca14aebd462"
      },
      "execution_count": 2,
      "outputs": [
        {
          "output_type": "stream",
          "name": "stdout",
          "text": [
            "=== Exact NN ===\n",
            "Indices: [[811 262  63  18 370]]\n",
            "Distances: [[0.00325793 0.00818779 0.02173611 0.03120662 0.0315932 ]]\n",
            "Waktu: 0.05452084541320801 detik\n",
            "\n",
            "=== HNSW ===\n",
            "Indices: [[811 262  63  18 370]]\n",
            "Distances: [[1.06141215e-05 6.70399240e-05 4.72458341e-04 9.73852933e-04\n",
            "  9.98130068e-04]]\n",
            "Waktu: 0.0002346038818359375 detik\n"
          ]
        }
      ]
    },
    {
      "cell_type": "code",
      "source": [
        "# 1000 - 2D\n",
        "\n",
        "# ===========================\n",
        "# 1. Buat data 5D acak\n",
        "# ===========================\n",
        "num_elements = 1000\n",
        "dim = 5\n",
        "data = np.random.random((num_elements, dim)).astype(np.float32)\n",
        "\n",
        "# Query point\n",
        "query = np.full((1, dim), 0.5, dtype=np.float32)\n",
        "k = 5  # cari 5 tetangga terdekat\n",
        "\n",
        "# ===========================\n",
        "# 2. Exact NN (Brute Force)\n",
        "# ===========================\n",
        "nn = NearestNeighbors(n_neighbors=k, algorithm='brute', metric='euclidean')\n",
        "nn.fit(data)\n",
        "\n",
        "start = time.time()\n",
        "distances, indices = nn.kneighbors(query)\n",
        "end = time.time()\n",
        "\n",
        "print(\"=== Exact NN ===\")\n",
        "print(\"Indices:\", indices)\n",
        "print(\"Distances:\", distances)\n",
        "print(\"Waktu:\", end - start, \"detik\")\n",
        "\n",
        "# ===========================\n",
        "# 3. HNSW\n",
        "# ===========================\n",
        "# Inisialisasi index HNSW\n",
        "p = hnswlib.Index(space='l2', dim=dim)\n",
        "\n",
        "# Ukuran maksimum elemen yang bisa ditampung\n",
        "p.init_index(max_elements=num_elements, ef_construction=100, M=16)\n",
        "\n",
        "# Tambahkan data\n",
        "p.add_items(data)\n",
        "\n",
        "# Set parameter pencarian\n",
        "p.set_ef(50)   # tradeoff speed vs accuracy\n",
        "\n",
        "start = time.time()\n",
        "labels, distances = p.knn_query(query, k=k)\n",
        "end = time.time()\n",
        "\n",
        "print(\"\\n=== HNSW ===\")\n",
        "print(\"Indices:\", labels)\n",
        "print(\"Distances:\", distances)\n",
        "print(\"Waktu:\", end - start, \"detik\")\n"
      ],
      "metadata": {
        "colab": {
          "base_uri": "https://localhost:8080/"
        },
        "id": "2pWKmjHR10_G",
        "outputId": "bf0ff291-65b7-4608-c618-21ff6a57ded3"
      },
      "execution_count": 3,
      "outputs": [
        {
          "output_type": "stream",
          "name": "stdout",
          "text": [
            "=== Exact NN ===\n",
            "Indices: [[475 155 956 378 688]]\n",
            "Distances: [[0.21247664 0.21581815 0.22018738 0.22688042 0.23219076]]\n",
            "Waktu: 0.002046823501586914 detik\n",
            "\n",
            "=== HNSW ===\n",
            "Indices: [[475 155 956 378 688]]\n",
            "Distances: [[0.04514632 0.04657747 0.04848249 0.05147472 0.05391255]]\n",
            "Waktu: 0.00025272369384765625 detik\n"
          ]
        }
      ]
    },
    {
      "cell_type": "code",
      "source": [
        "# 1jt 2D\n",
        "\n",
        "# ===========================\n",
        "# 1. Buat data 2D acak\n",
        "# ===========================\n",
        "num_elements = 1000000\n",
        "dim = 2\n",
        "data = np.random.random((num_elements, dim)).astype(np.float32)\n",
        "\n",
        "# Query point\n",
        "query = np.array([[0.5, 0.5]], dtype=np.float32)\n",
        "k = 5  # cari 5 tetangga terdekat\n",
        "\n",
        "# ===========================\n",
        "# 2. Exact NN (Brute Force)\n",
        "# ===========================\n",
        "nn = NearestNeighbors(n_neighbors=k, algorithm='brute', metric='euclidean')\n",
        "nn.fit(data)\n",
        "\n",
        "start = time.time()\n",
        "distances, indices = nn.kneighbors(query)\n",
        "end = time.time()\n",
        "\n",
        "print(\"=== Exact NN ===\")\n",
        "print(\"Indices:\", indices)\n",
        "print(\"Distances:\", distances)\n",
        "print(\"Waktu:\", end - start, \"detik\")\n",
        "\n",
        "# ===========================\n",
        "# 3. HNSW\n",
        "# ===========================\n",
        "# Inisialisasi index HNSW\n",
        "p = hnswlib.Index(space='l2', dim=dim)\n",
        "\n",
        "# Ukuran maksimum elemen yang bisa ditampung\n",
        "p.init_index(max_elements=num_elements, ef_construction=100, M=16)\n",
        "\n",
        "# Tambahkan data\n",
        "p.add_items(data)\n",
        "\n",
        "# Set parameter pencarian\n",
        "p.set_ef(50)   # tradeoff speed vs accuracy\n",
        "\n",
        "start = time.time()\n",
        "labels, distances = p.knn_query(query, k=k)\n",
        "end = time.time()\n",
        "\n",
        "print(\"\\n=== HNSW ===\")\n",
        "print(\"Indices:\", labels)\n",
        "print(\"Distances:\", distances)\n",
        "print(\"Waktu:\", end - start, \"detik\")\n"
      ],
      "metadata": {
        "colab": {
          "base_uri": "https://localhost:8080/"
        },
        "id": "k8PSAKIO2XHB",
        "outputId": "52b9a2ec-ea1e-4178-c4f0-47cd6d0031ad"
      },
      "execution_count": 4,
      "outputs": [
        {
          "output_type": "stream",
          "name": "stdout",
          "text": [
            "=== Exact NN ===\n",
            "Indices: [[572054 603550 973282 806898 732763]]\n",
            "Distances: [[0.00021922 0.00079922 0.00097558 0.00114186 0.00116989]]\n",
            "Waktu: 0.11189389228820801 detik\n",
            "\n",
            "=== HNSW ===\n",
            "Indices: [[572054 603550 973282 806898 732763]]\n",
            "Distances: [[4.8056432e-08 6.3874501e-07 9.5175824e-07 1.3038333e-06 1.3686523e-06]]\n",
            "Waktu: 0.0002567768096923828 detik\n"
          ]
        }
      ]
    },
    {
      "cell_type": "code",
      "source": [
        "# 1jt - 5D\n",
        "\n",
        "# ===========================\n",
        "# 1. Buat data 2D acak\n",
        "# ===========================\n",
        "num_elements = 1000\n",
        "dim = 2\n",
        "data = np.random.random((num_elements, dim)).astype(np.float32)\n",
        "\n",
        "# Query point\n",
        "query = np.array([[0.5, 0.5]], dtype=np.float32)\n",
        "k = 5  # cari 5 tetangga terdekat\n",
        "\n",
        "# ===========================\n",
        "# 2. Exact NN (Brute Force)\n",
        "# ===========================\n",
        "nn = NearestNeighbors(n_neighbors=k, algorithm='brute', metric='euclidean')\n",
        "nn.fit(data)\n",
        "\n",
        "start = time.time()\n",
        "distances, indices = nn.kneighbors(query)\n",
        "end = time.time()\n",
        "\n",
        "print(\"=== Exact NN ===\")\n",
        "print(\"Indices:\", indices)\n",
        "print(\"Distances:\", distances)\n",
        "print(\"Waktu:\", end - start, \"detik\")\n",
        "\n",
        "# ===========================\n",
        "# 3. HNSW\n",
        "# ===========================\n",
        "# Inisialisasi index HNSW\n",
        "p = hnswlib.Index(space='l2', dim=dim)\n",
        "\n",
        "# Ukuran maksimum elemen yang bisa ditampung\n",
        "p.init_index(max_elements=num_elements, ef_construction=100, M=16)\n",
        "\n",
        "# Tambahkan data\n",
        "p.add_items(data)\n",
        "\n",
        "# Set parameter pencarian\n",
        "p.set_ef(50)   # tradeoff speed vs accuracy\n",
        "\n",
        "start = time.time()\n",
        "labels, distances = p.knn_query(query, k=k)\n",
        "end = time.time()\n",
        "\n",
        "print(\"\\n=== HNSW ===\")\n",
        "print(\"Indices:\", labels)\n",
        "print(\"Distances:\", distances)\n",
        "print(\"Waktu:\", end - start, \"detik\")\n"
      ],
      "metadata": {
        "colab": {
          "base_uri": "https://localhost:8080/"
        },
        "id": "71Zv-16N20za",
        "outputId": "c9009f51-e6f3-4af6-8da7-c2d6cced2739"
      },
      "execution_count": 5,
      "outputs": [
        {
          "output_type": "stream",
          "name": "stdout",
          "text": [
            "=== Exact NN ===\n",
            "Indices: [[195  21 417 115 754]]\n",
            "Distances: [[0.02783825 0.0310911  0.03731138 0.04605607 0.04899496]]\n",
            "Waktu: 0.001428842544555664 detik\n",
            "\n",
            "=== HNSW ===\n",
            "Indices: [[195  21 417 115 754]]\n",
            "Distances: [[0.00077497 0.00096666 0.00139214 0.00212116 0.00240051]]\n",
            "Waktu: 0.0001819133758544922 detik\n"
          ]
        }
      ]
    }
  ]
}